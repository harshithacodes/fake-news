{
  "nbformat": 4,
  "nbformat_minor": 0,
  "metadata": {
    "colab": {
      "provenance": []
    },
    "kernelspec": {
      "name": "python3",
      "display_name": "Python 3"
    },
    "language_info": {
      "name": "python"
    }
  },
  "cells": [
    {
      "cell_type": "code",
      "execution_count": null,
      "metadata": {
        "colab": {
          "base_uri": "https://localhost:8080/"
        },
        "id": "ROPVWsgd9ec5",
        "outputId": "3cae5434-9e53-4578-f8cb-9c6b44f6561b"
      },
      "outputs": [
        {
          "output_type": "stream",
          "name": "stdout",
          "text": [
            "✅ fake_or_real_news.csv created successfully!\n",
            "                                            title  \\\n",
            "0          Breaking: New Law Passed in Parliament   \n",
            "1        Celebrity Endorses Secret Health Formula   \n",
            "2  Government Approves Vaccine Rollout Nationwide   \n",
            "3            Scientists Say Moon Landing Was Fake   \n",
            "4           President Addresses Nation on Economy   \n",
            "\n",
            "                                                text label  \n",
            "0  Today, parliament passed a new law focusing on...  REAL  \n",
            "1  A well-known actor has promoted a new herbal p...  FAKE  \n",
            "2  The health ministry has begun distributing vac...  REAL  \n",
            "3  An article circulated online claims the moon l...  FAKE  \n",
            "4  In his speech, the president highlighted econo...  REAL  \n",
            "label\n",
            "1    3\n",
            "0    2\n",
            "Name: count, dtype: int64\n",
            "Accuracy: 0.0\n",
            "Confusion Matrix:\n",
            " [[0 1]\n",
            " [0 0]]\n",
            "REAL\n"
          ]
        }
      ],
      "source": [
        "import pandas as pd\n",
        "\n",
        "# Create a small sample fake news dataset\n",
        "data = {\n",
        "    \"title\": [\n",
        "        \"Breaking: New Law Passed in Parliament\",\n",
        "        \"Celebrity Endorses Secret Health Formula\",\n",
        "        \"Government Approves Vaccine Rollout Nationwide\",\n",
        "        \"Scientists Say Moon Landing Was Fake\",\n",
        "        \"President Addresses Nation on Economy\"\n",
        "    ],\n",
        "    \"text\": [\n",
        "        \"Today, parliament passed a new law focusing on environmental reforms...\",\n",
        "        \"A well-known actor has promoted a new herbal product claiming to cure everything...\",\n",
        "        \"The health ministry has begun distributing vaccines to all states starting Monday...\",\n",
        "        \"An article circulated online claims the moon landing never happened and was filmed...\",\n",
        "        \"In his speech, the president highlighted economic recovery and new policies...\"\n",
        "    ],\n",
        "    \"label\": [\n",
        "        \"REAL\",\n",
        "        \"FAKE\",\n",
        "        \"REAL\",\n",
        "        \"FAKE\",\n",
        "        \"REAL\"\n",
        "    ]\n",
        "}\n",
        "\n",
        "# Create a DataFrame and save to CSV\n",
        "df = pd.DataFrame(data)\n",
        "df.to_csv(\"fake_or_real_news.csv\", index=False)\n",
        "\n",
        "print(\"✅ fake_or_real_news.csv created successfully!\")\n",
        "import pandas as pd\n",
        "\n",
        "df = pd.read_csv(\"fake_or_real_news.csv\")\n",
        "print(df.head())\n",
        "# Map labels to numbers: FAKE = 0, REAL = 1\n",
        "df['label'] = df['label'].map({'FAKE': 0, 'REAL': 1})\n",
        "print(df['label'].value_counts())\n",
        "from sklearn.feature_extraction.text import TfidfVectorizer\n",
        "\n",
        "vectorizer = TfidfVectorizer(stop_words='english', max_df=0.7)\n",
        "X = vectorizer.fit_transform(df['text'])\n",
        "y = df['label']\n",
        "from sklearn.model_selection import train_test_split\n",
        "\n",
        "X_train, X_test, y_train, y_test = train_test_split(X, y, test_size=0.2, random_state=42)\n",
        "from sklearn.linear_model import LogisticRegression\n",
        "\n",
        "model = LogisticRegression()\n",
        "model.fit(X_train, y_train)\n",
        "from sklearn.metrics import accuracy_score, confusion_matrix\n",
        "\n",
        "y_pred = model.predict(X_test)\n",
        "print(\"Accuracy:\", accuracy_score(y_test, y_pred))\n",
        "print(\"Confusion Matrix:\\n\", confusion_matrix(y_test, y_pred))\n",
        "import pickle\n",
        "\n",
        "with open(\"logistic_model.pkl\", \"wb\") as f:\n",
        "    pickle.dump(model, f)\n",
        "def predict_news(text):\n",
        "    vectorized = vectorizer.transform([text])\n",
        "    result = model.predict(vectorized)[0]\n",
        "    return \"REAL\" if result == 1 else \"FAKE\"\n",
        "\n",
        "# Example\n",
        "print(predict_news(\"The government passed a new health policy today.\"))\n",
        "\n",
        "\n",
        "\n",
        "\n",
        "\n",
        "\n",
        "\n",
        "\n"
      ]
    }
  ]
}